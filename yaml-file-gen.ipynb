{
 "cells": [
  {
   "cell_type": "code",
   "execution_count": 1,
   "id": "imported-toddler",
   "metadata": {},
   "outputs": [],
   "source": [
    "import calendar as cal\n",
    "from itertools import product\n",
    "\n",
    "import yaml\n",
    "from sscutils.constants import SUBSET_CONFIG_PATH\n",
    "\n",
    "subset_dic = {\"complete\": {\"branch\": \"main\", \"default\": True}}\n",
    "for iscov, wday in product([True, False], [*range(7), None]):\n",
    "\n",
    "    pref = \"\" if iscov else \"non_\"\n",
    "    dayname = cal.day_name[wday].lower() if wday is not None else \"full_week\"\n",
    "    sname = \"_\".join([f\"{pref}covid\", dayname])\n",
    "\n",
    "    subset_dic[sname] = {\n",
    "        \"sampling_kwargs\": {\"is_covid\": iscov, \"ind_of_weekday\": wday},\n",
    "        \"branch\": \"main\",\n",
    "    }"
   ]
  },
  {
   "cell_type": "code",
   "execution_count": 2,
   "id": "single-ethernet",
   "metadata": {},
   "outputs": [
    {
     "data": {
      "text/plain": [
       "1533"
      ]
     },
     "execution_count": 2,
     "metadata": {},
     "output_type": "execute_result"
    }
   ],
   "source": [
    "SUBSET_CONFIG_PATH.write_text(yaml.dump(subset_dic))"
   ]
  }
 ],
 "metadata": {
  "kernelspec": {
   "display_name": "Python 3",
   "language": "python",
   "name": "python3"
  },
  "language_info": {
   "codemirror_mode": {
    "name": "ipython",
    "version": 3
   },
   "file_extension": ".py",
   "mimetype": "text/x-python",
   "name": "python",
   "nbconvert_exporter": "python",
   "pygments_lexer": "ipython3",
   "version": "3.8.10"
  }
 },
 "nbformat": 4,
 "nbformat_minor": 5
}
