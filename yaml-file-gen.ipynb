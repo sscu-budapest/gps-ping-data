{
 "cells": [
  {
   "cell_type": "code",
   "execution_count": 1,
   "id": "b8cdaad6",
   "metadata": {},
   "outputs": [],
   "source": [
    "import calendar as cal\n",
    "from itertools import product\n",
    "\n",
    "import yaml"
   ]
  },
  {
   "cell_type": "code",
   "execution_count": 12,
   "id": "imported-toddler",
   "metadata": {},
   "outputs": [],
   "source": [
    "env_dic = {\"complete\": {\"params\": {\"chunksize\": 1_000_000}}}\n",
    "for iscov, wday in product([True, False], [1,3,5,6, None]):\n",
    "\n",
    "    pref = \"\" if iscov else \"non_\"\n",
    "    dayname = cal.day_name[wday].lower() if wday is not None else \"full_week\"\n",
    "    sname = \"_\".join([f\"{pref}covid\", dayname])\n",
    "\n",
    "    env_dic[sname] = {\n",
    "        \"params\": {\"is_covid\": iscov, \"ind_of_weekday\": wday},\n",
    "    }"
   ]
  },
  {
   "cell_type": "code",
   "execution_count": 14,
   "id": "608baa32",
   "metadata": {},
   "outputs": [
    {
     "name": "stdout",
     "output_type": "stream",
     "text": [
      "envs:\n",
      "  complete:\n",
      "    params:\n",
      "      chunksize: 1000000\n",
      "  covid_full_week:\n",
      "    params:\n",
      "      ind_of_weekday: null\n",
      "      is_covid: true\n",
      "  covid_saturday:\n",
      "    params:\n",
      "      ind_of_weekday: 5\n",
      "      is_covid: true\n",
      "  covid_sunday:\n",
      "    params:\n",
      "      ind_of_weekday: 6\n",
      "      is_covid: true\n",
      "  covid_thursday:\n",
      "    params:\n",
      "      ind_of_weekday: 3\n",
      "      is_covid: true\n",
      "  covid_tuesday:\n",
      "    params:\n",
      "      ind_of_weekday: 1\n",
      "      is_covid: true\n",
      "  non_covid_full_week:\n",
      "    params:\n",
      "      ind_of_weekday: null\n",
      "      is_covid: false\n",
      "  non_covid_saturday:\n",
      "    params:\n",
      "      ind_of_weekday: 5\n",
      "      is_covid: false\n",
      "  non_covid_sunday:\n",
      "    params:\n",
      "      ind_of_weekday: 6\n",
      "      is_covid: false\n",
      "  non_covid_thursday:\n",
      "    params:\n",
      "      ind_of_weekday: 3\n",
      "      is_covid: false\n",
      "  non_covid_tuesday:\n",
      "    params:\n",
      "      ind_of_weekday: 1\n",
      "      is_covid: false\n",
      "\n"
     ]
    }
   ],
   "source": [
    "print(yaml.dump({\"envs\": env_dic}))"
   ]
  }
 ],
 "metadata": {
  "kernelspec": {
   "display_name": "Python 3",
   "language": "python",
   "name": "python3"
  },
  "language_info": {
   "codemirror_mode": {
    "name": "ipython",
    "version": 3
   },
   "file_extension": ".py",
   "mimetype": "text/x-python",
   "name": "python",
   "nbconvert_exporter": "python",
   "pygments_lexer": "ipython3",
   "version": "3.8.10"
  }
 },
 "nbformat": 4,
 "nbformat_minor": 5
}
